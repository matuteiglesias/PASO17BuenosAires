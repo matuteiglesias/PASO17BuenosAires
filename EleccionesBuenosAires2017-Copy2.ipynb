{
 "cells": [
  {
   "cell_type": "code",
   "execution_count": 1,
   "metadata": {
    "collapsed": true
   },
   "outputs": [],
   "source": [
    "#import packages\n",
    "from urllib import FancyURLopener\n",
    "from bs4 import SoupStrainer, BeautifulSoup\n",
    "import re\n",
    "import pandas as pd\n",
    "import numpy as np\n",
    "import random\n",
    "import matplotlib.pyplot as plt\n",
    "%matplotlib inline\n"
   ]
  },
  {
   "cell_type": "markdown",
   "metadata": {},
   "source": [
    "# Contents\n",
    "## Scrapping\n",
    "## Data processing\n",
    "## Examples and plots\n",
    "\n",
    "### Scrapping"
   ]
  },
  {
   "cell_type": "code",
   "execution_count": 2,
   "metadata": {
    "collapsed": false
   },
   "outputs": [],
   "source": [
    "class MyOpener(FancyURLopener):\n",
    "    version = 'Mozilla/5.0 (Macintosh; Intel Mac OS X 10_9_2) AppleWebKit/537.36 (KHTML, like Gecko) Chrome/33.0.1750.152 Safari/537.36'\n",
    "openurl = MyOpener().open\n",
    "\n",
    "def data_from_page_senadores(url):\n",
    "    \"\"\"\n",
    "    Function to scrap relevant data from election results webpage.\n",
    "    \n",
    "    Input url and outputs a dataframe row with a bunch of information from the page.\n",
    "    \"\"\"\n",
    "    \n",
    "    url = openurl(url)\n",
    "    page = BeautifulSoup(url.read())\n",
    "    \n",
    "    # District\n",
    "    dist = page.find_all(\"div\", class_=\"textoAmbitoContainer\")[0].p.string[15:]\n",
    "    # Time\n",
    "    hora = page.find_all(\"div\", id=\"fechacorta\")[0].p.string[13:18]\n",
    "    # Date\n",
    "    fecha = page.find_all(\"div\", id=\"fechacorta\")[0].p.string[23:]\n",
    "    \n",
    "    # Observed urns (mesas escrutadas)\n",
    "    mesas_e = int(filter(unicode.isdigit, page.find_all('div', class_ = 'mesasEscrutadas dch')[0].p.contents[0]))\n",
    "    # Observed urns (%)\n",
    "    pmesas_e = float(page.find_all('div', class_ = 'mesasEscrutadas dch')[0].p.span.string[2:-2].replace(',','.'))\n",
    "    # How many people allowed to vote\n",
    "    electores = int(filter(unicode.isdigit, page.find_all('div', class_='participacion izq')[1].p.span.string))\n",
    "    # How many valid votes (used for computing percentages to each party)\n",
    "    validos = int(filter(unicode.isdigit, page.find_all('tr', class_ = 'validos')[0].find_all('td', class_ = 'vot')[0].string))\n",
    "\n",
    "    # List of political parties (agrupacion)\n",
    "    agrup = [x.find_all('td', class_ = 'denom')[0].contents[0] for x in page.find_all(\"tr\", class_=\"r1 agrup\")]\n",
    "    # List of their votes\n",
    "    votos = [int(filter(unicode.isdigit, x.find_all('td', class_ = 'vot')[0].string)) for x in page.find_all(\"tr\", class_=\"r1 agrup\")]\n",
    "    # List of their votes (%)\n",
    "    pvotos = [float(x.find_all('td', class_ = 'pvot')[0].string[:-1].replace(',','.')) for x in page.find_all(\"tr\", class_=\"r1 agrup\")]\n",
    "\n",
    "    # Set it up in a pandas dataframe row and return it\n",
    "    d = [hora, fecha, mesas_e, pmesas_e, electores, validos] + votos + pvotos\n",
    "    columns = ['hora', 'fecha', 'mesas_e', 'pmesas_e', 'electores', 'validos'] + [str('vot_')+a for a in agrup] + [str('pvot_')+a for a in agrup]\n",
    "    row = pd.DataFrame(dict(zip(columns, d)), index=[dist])\n",
    "    \n",
    "    return row"
   ]
  },
  {
   "cell_type": "code",
   "execution_count": 3,
   "metadata": {
    "collapsed": false
   },
   "outputs": [],
   "source": [
    "# There's one url for each district:\n",
    "urls_senad = ['http://www.resultados.gob.ar/escrutinio/dat02/DSN0'+str(n)+'A.htm'             \n",
    "        for n in range(2001,2136)]\n",
    "\n",
    "# Set up a dataframe with the scrapped results\n",
    "df = pd.DataFrame()\n",
    "for url in urls_senad:\n",
    "    new_row = data_from_page_senadores(url)\n",
    "    df = df.append(new_row)"
   ]
  },
  {
   "cell_type": "markdown",
   "metadata": {},
   "source": [
    "## Data processing\n",
    "### Set up dataset"
   ]
  },
  {
   "cell_type": "code",
   "execution_count": 15,
   "metadata": {
    "collapsed": false,
    "scrolled": true
   },
   "outputs": [],
   "source": [
    "# Keep only columns that you care about\n",
    "data = df[['fecha', 'hora', 'mesas_e', 'pmesas_e',\n",
    "           'pvot_CAMBIEMOS BUENOS AIRES', 'pvot_UNIDAD CIUDADANA',\n",
    "           'vot_CAMBIEMOS BUENOS AIRES', 'vot_UNIDAD CIUDADANA',\n",
    "           'validos', 'electores']]\n",
    "\n",
    "#Format time and date columns\n",
    "data = data.assign(hora = pd.to_datetime(data['hora'], format='%H:%M', infer_datetime_format=True).dt.time,\n",
    "                   fecha= pd.to_datetime(data['fecha'],format='%d/%m', infer_datetime_format=True).dt.date)\n",
    "\n",
    "data['time'] = data.apply(lambda r : pd.datetime.combine(r['fecha'],r['hora']),1)\n",
    "data['time_delta'] = (data['time'] - data['time'].min())  / np.timedelta64(1,'h') #-2/3. + \n"
   ]
  },
  {
   "cell_type": "code",
   "execution_count": 46,
   "metadata": {
    "collapsed": false,
    "scrolled": true
   },
   "outputs": [],
   "source": [
    "#Compute number of non-observed urns from observed urns and it's percentage.\n",
    "data = data.assign(mesas_NO_e = data.mesas_e / (0.01 * data.pmesas_e) - data.mesas_e)\n",
    "data.mesas_NO_e = data.mesas_NO_e.round().astype(int)\n",
    "\n",
    "# Compute average votes per urn\n",
    "data['vot_PRO_xmesa'] = data['vot_CAMBIEMOS BUENOS AIRES'] / data['mesas_e']\n",
    "data['vot_UC_xmesa'] = data['vot_UNIDAD CIUDADANA'] / data['mesas_e']\n",
    "\n",
    "# Linear projection based on votes per urn and non observed urns\n",
    "data['proy_ventajaUC'] = (1 - 0.01 * data['pmesas_e'])*(data['vot_UNIDAD CIUDADANA'] - data['vot_CAMBIEMOS BUENOS AIRES'])\n",
    "data['proy_ventajaUC'] = data['proy_ventajaUC'].round().astype(int)\n",
    "\n",
    "#Rankings by observed urns and allowed voters (electores)\n",
    "data['rank_escrutada'] = data.pmesas_e.rank()/125.\n",
    "# data['rank_electores'] = data.electores.rank()/125."
   ]
  },
  {
   "cell_type": "markdown",
   "metadata": {},
   "source": [
    "### Exercises\n",
    "#### Here we do the splitting into quantiles. The data is shown here and can be plotted for example in pie charts for each category."
   ]
  },
  {
   "cell_type": "code",
   "execution_count": 62,
   "metadata": {
    "collapsed": false
   },
   "outputs": [
    {
     "data": {
      "text/html": [
       "<div>\n",
       "<style>\n",
       "    .dataframe thead tr:only-child th {\n",
       "        text-align: right;\n",
       "    }\n",
       "\n",
       "    .dataframe thead th {\n",
       "        text-align: left;\n",
       "    }\n",
       "\n",
       "    .dataframe tbody tr th {\n",
       "        vertical-align: top;\n",
       "    }\n",
       "</style>\n",
       "<table border=\"1\" class=\"dataframe\">\n",
       "  <thead>\n",
       "    <tr style=\"text-align: right;\">\n",
       "      <th></th>\n",
       "      <th>vot_CAMBIEMOS BUENOS AIRES</th>\n",
       "      <th>vot_UNIDAD CIUDADANA</th>\n",
       "      <th>validos</th>\n",
       "      <th>electores</th>\n",
       "      <th>mesas_NO_e</th>\n",
       "      <th>proy_ventajaUC</th>\n",
       "    </tr>\n",
       "    <tr>\n",
       "      <th>rank_escrutada_cat</th>\n",
       "      <th></th>\n",
       "      <th></th>\n",
       "      <th></th>\n",
       "      <th></th>\n",
       "      <th></th>\n",
       "      <th></th>\n",
       "    </tr>\n",
       "  </thead>\n",
       "  <tbody>\n",
       "    <tr>\n",
       "      <th>1.0</th>\n",
       "      <td>940529</td>\n",
       "      <td>1287603</td>\n",
       "      <td>3246131</td>\n",
       "      <td>4526733</td>\n",
       "      <td>862</td>\n",
       "      <td>23434</td>\n",
       "    </tr>\n",
       "    <tr>\n",
       "      <th>2.0</th>\n",
       "      <td>757895</td>\n",
       "      <td>798751</td>\n",
       "      <td>2303363</td>\n",
       "      <td>3204565</td>\n",
       "      <td>420</td>\n",
       "      <td>2386</td>\n",
       "    </tr>\n",
       "    <tr>\n",
       "      <th>3.0</th>\n",
       "      <td>719905</td>\n",
       "      <td>552544</td>\n",
       "      <td>1832929</td>\n",
       "      <td>2469194</td>\n",
       "      <td>190</td>\n",
       "      <td>-4314</td>\n",
       "    </tr>\n",
       "    <tr>\n",
       "      <th>4.0</th>\n",
       "      <td>462664</td>\n",
       "      <td>307742</td>\n",
       "      <td>1150432</td>\n",
       "      <td>1550438</td>\n",
       "      <td>65</td>\n",
       "      <td>-1730</td>\n",
       "    </tr>\n",
       "    <tr>\n",
       "      <th>5.0</th>\n",
       "      <td>165117</td>\n",
       "      <td>92555</td>\n",
       "      <td>377207</td>\n",
       "      <td>502983</td>\n",
       "      <td>0</td>\n",
       "      <td>0</td>\n",
       "    </tr>\n",
       "  </tbody>\n",
       "</table>\n",
       "</div>"
      ],
      "text/plain": [
       "                    vot_CAMBIEMOS BUENOS AIRES  vot_UNIDAD CIUDADANA  validos  \\\n",
       "rank_escrutada_cat                                                              \n",
       "1.0                                     940529               1287603  3246131   \n",
       "2.0                                     757895                798751  2303363   \n",
       "3.0                                     719905                552544  1832929   \n",
       "4.0                                     462664                307742  1150432   \n",
       "5.0                                     165117                 92555   377207   \n",
       "\n",
       "                    electores  mesas_NO_e  proy_ventajaUC  \n",
       "rank_escrutada_cat                                         \n",
       "1.0                   4526733         862           23434  \n",
       "2.0                   3204565         420            2386  \n",
       "3.0                   2469194         190           -4314  \n",
       "4.0                   1550438          65           -1730  \n",
       "5.0                    502983           0               0  "
      ]
     },
     "execution_count": 62,
     "metadata": {},
     "output_type": "execute_result"
    }
   ],
   "source": [
    "data['rank_escrutada_cat'] = np.ceil(5*data.rank_escrutada)\n",
    "\n",
    "df = data.groupby(data['rank_escrutada_cat']).sum()[['vot_CAMBIEMOS BUENOS AIRES',\n",
    "       'vot_UNIDAD CIUDADANA', 'validos','electores','mesas_NO_e',\n",
    "    'proy_ventajaUC']]\n",
    "df"
   ]
  },
  {
   "cell_type": "markdown",
   "metadata": {},
   "source": [
    "#### Randomization: what if non-opened urns were allocated to districts randomly? How much could results deviate?\n",
    "#### Is it likely that randomly located non-opened urns give a higher value to 'PRO' yellow than to 'UC' blue? (Answer: NO!)"
   ]
  },
  {
   "cell_type": "code",
   "execution_count": 63,
   "metadata": {
    "collapsed": false,
    "scrolled": true
   },
   "outputs": [
    {
     "data": {
      "image/png": "[encoded data removed]",
      "text/plain": [
       "<matplotlib.figure.Figure at 0x7f5084061d10>"
      ]
     },
     "metadata": {},
     "output_type": "display_data"
    }
   ],
   "source": [
    "proy_tot_mesas = []\n",
    "\n",
    "for index, row in data.iterrows():\n",
    "    proy_mesas = [(row['vot_PRO_xmesa'], row['vot_UC_xmesa']) for i in range((row['mesas_e'] + row['mesas_NO_e']))]\n",
    "    proy_tot_mesas = proy_tot_mesas + proy_mesas\n",
    "    \n",
    "PRO_rand = []\n",
    "UC_rand = []\n",
    "\n",
    "for i in range(500):\n",
    "    sample = random.sample(proy_tot_mesas, data.mesas_e.sum())\n",
    "    rd_vot_PRO = [round(sum([s[0] for s in sample]))]\n",
    "    rd_vot_UC = [round(sum([s[1] for s in sample]))]\n",
    "    PRO_rand= PRO_rand+ rd_vot_PRO\n",
    "    UC_rand = UC_rand + rd_vot_UC\n",
    "\n",
    "tot_validos = float(data['validos'].sum())\n",
    "plt.hist([np.true_divide(100*x,tot_validos) for x in PRO_rand], edgecolor = 'none', color ='y', label = 'PRO')\n",
    "plt.hist([np.true_divide(100*x,tot_validos) for x in UC_rand ], edgecolor = 'none', color ='lightblue', label = 'UC')\n",
    "plt.title('Linear projection and \\n distribution of results randomizing \\n location of non-opened urns')\n",
    "plt.xlabel('Results (%)')\n",
    "plt.ylabel('Probability')\n",
    "plt.legend()\n",
    "plt.show()"
   ]
  },
  {
   "cell_type": "markdown",
   "metadata": {},
   "source": [
    "#### Linear projection of non opened urns"
   ]
  },
  {
   "cell_type": "code",
   "execution_count": 32,
   "metadata": {
    "collapsed": false,
    "scrolled": true
   },
   "outputs": [
    {
     "data": {
      "image/png": "[encoded data removed]",
      "text/plain": [
       "<matplotlib.figure.Figure at 0x7f508563c710>"
      ]
     },
     "metadata": {},
     "output_type": "display_data"
    }
   ],
   "source": [
    "import matplotlib\n",
    "font = {'size'   : 10}\n",
    "matplotlib.rc('font', **font)\n",
    "\n",
    "#Scatter plot variables\n",
    "x = data.electores*0.000001 #Scale by a million\n",
    "y = data.pmesas_e\n",
    "\n",
    "#Show some labels this way. The largest districts plus other labels worth it.\n",
    "n=list(data.index)\n",
    "n = [name if name in (list(data.loc[data['mesas_NO_e']>40].index)+[u'Vicente López', u'San Isidro']) else '' for name in n]\n",
    "\n",
    "fig, ax = plt.subplots(figsize=(10, 8))\n",
    "ax.scatter(x, y, edgecolors='none', \n",
    "            c=(data['vot_UNIDAD CIUDADANA'] - data['vot_CAMBIEMOS BUENOS AIRES'])/data['mesas_e'],\n",
    "           cmap ='bwr',\n",
    "           s = 0.9 * abs(data['proy_ventajaUC']),\n",
    "           alpha = 0.7)\n",
    "\n",
    "for i, txt in enumerate(n):\n",
    "    ax.annotate(txt, (x[i],y[i]))\n",
    "\n",
    "plt.xlabel('Cantidad electores (millones)', fontsize=20)\n",
    "plt.ylabel('Porcentaje escrutado', fontsize=20)\n",
    "\n",
    "\n",
    "plt.xlim(0, 1.1)\n",
    "plt.ylim(87, 100)\n",
    "\n",
    "plt.show()"
   ]
  },
  {
   "cell_type": "code",
   "execution_count": 58,
   "metadata": {
    "collapsed": false
   },
   "outputs": [
    {
     "data": {
      "text/html": [
       "<div>\n",
       "<style>\n",
       "    .dataframe thead tr:only-child th {\n",
       "        text-align: right;\n",
       "    }\n",
       "\n",
       "    .dataframe thead th {\n",
       "        text-align: left;\n",
       "    }\n",
       "\n",
       "    .dataframe tbody tr th {\n",
       "        vertical-align: top;\n",
       "    }\n",
       "</style>\n",
       "<table border=\"1\" class=\"dataframe\">\n",
       "  <thead>\n",
       "    <tr style=\"text-align: right;\">\n",
       "      <th></th>\n",
       "      <th>votos PRO</th>\n",
       "      <th>votos UC</th>\n",
       "      <th>escru</th>\n",
       "      <th>NO escru</th>\n",
       "      <th>Difer UC</th>\n",
       "      <th>Proy definitivo</th>\n",
       "    </tr>\n",
       "  </thead>\n",
       "  <tbody>\n",
       "    <tr>\n",
       "      <th>La Matanza</th>\n",
       "      <td>177770</td>\n",
       "      <td>339139</td>\n",
       "      <td>2678</td>\n",
       "      <td>158</td>\n",
       "      <td>8988</td>\n",
       "      <td>161369</td>\n",
       "    </tr>\n",
       "    <tr>\n",
       "      <th>Lomas de Zamora</th>\n",
       "      <td>104338</td>\n",
       "      <td>143020</td>\n",
       "      <td>1306</td>\n",
       "      <td>84</td>\n",
       "      <td>2336</td>\n",
       "      <td>38682</td>\n",
       "    </tr>\n",
       "    <tr>\n",
       "      <th>La Plata</th>\n",
       "      <td>156754</td>\n",
       "      <td>99472</td>\n",
       "      <td>1474</td>\n",
       "      <td>82</td>\n",
       "      <td>-3019</td>\n",
       "      <td>-57282</td>\n",
       "    </tr>\n",
       "    <tr>\n",
       "      <th>General Pueyrredón</th>\n",
       "      <td>154217</td>\n",
       "      <td>96723</td>\n",
       "      <td>1508</td>\n",
       "      <td>68</td>\n",
       "      <td>-2478</td>\n",
       "      <td>-57494</td>\n",
       "    </tr>\n",
       "    <tr>\n",
       "      <th>Malvinas Argentinas</th>\n",
       "      <td>47145</td>\n",
       "      <td>76806</td>\n",
       "      <td>671</td>\n",
       "      <td>68</td>\n",
       "      <td>2729</td>\n",
       "      <td>29661</td>\n",
       "    </tr>\n",
       "    <tr>\n",
       "      <th>Florencio Varela</th>\n",
       "      <td>48542</td>\n",
       "      <td>105100</td>\n",
       "      <td>807</td>\n",
       "      <td>67</td>\n",
       "      <td>4338</td>\n",
       "      <td>56558</td>\n",
       "    </tr>\n",
       "    <tr>\n",
       "      <th>Berazategui</th>\n",
       "      <td>48215</td>\n",
       "      <td>75632</td>\n",
       "      <td>661</td>\n",
       "      <td>66</td>\n",
       "      <td>2489</td>\n",
       "      <td>27417</td>\n",
       "    </tr>\n",
       "    <tr>\n",
       "      <th>Quilmes</th>\n",
       "      <td>107695</td>\n",
       "      <td>123473</td>\n",
       "      <td>1233</td>\n",
       "      <td>66</td>\n",
       "      <td>802</td>\n",
       "      <td>15778</td>\n",
       "    </tr>\n",
       "    <tr>\n",
       "      <th>Almirante Brown</th>\n",
       "      <td>81783</td>\n",
       "      <td>128889</td>\n",
       "      <td>1171</td>\n",
       "      <td>61</td>\n",
       "      <td>2332</td>\n",
       "      <td>47106</td>\n",
       "    </tr>\n",
       "    <tr>\n",
       "      <th>Moreno</th>\n",
       "      <td>54423</td>\n",
       "      <td>102663</td>\n",
       "      <td>892</td>\n",
       "      <td>56</td>\n",
       "      <td>2851</td>\n",
       "      <td>48240</td>\n",
       "    </tr>\n",
       "  </tbody>\n",
       "</table>\n",
       "</div>"
      ],
      "text/plain": [
       "                     votos PRO  votos UC  escru  NO escru  Difer UC  \\\n",
       "La Matanza              177770    339139   2678       158      8988   \n",
       "Lomas de Zamora         104338    143020   1306        84      2336   \n",
       "La Plata                156754     99472   1474        82     -3019   \n",
       "General Pueyrredón      154217     96723   1508        68     -2478   \n",
       "Malvinas Argentinas      47145     76806    671        68      2729   \n",
       "Florencio Varela         48542    105100    807        67      4338   \n",
       "Berazategui              48215     75632    661        66      2489   \n",
       "Quilmes                 107695    123473   1233        66       802   \n",
       "Almirante Brown          81783    128889   1171        61      2332   \n",
       "Moreno                   54423    102663    892        56      2851   \n",
       "\n",
       "                     Proy definitivo  \n",
       "La Matanza                    161369  \n",
       "Lomas de Zamora                38682  \n",
       "La Plata                      -57282  \n",
       "General Pueyrredón            -57494  \n",
       "Malvinas Argentinas            29661  \n",
       "Florencio Varela               56558  \n",
       "Berazategui                    27417  \n",
       "Quilmes                        15778  \n",
       "Almirante Brown                47106  \n",
       "Moreno                         48240  "
      ]
     },
     "execution_count": 58,
     "metadata": {},
     "output_type": "execute_result"
    }
   ],
   "source": [
    "#See the data of the plot above:\n",
    "dg = data[['vot_CAMBIEMOS BUENOS AIRES',\n",
    "       'vot_UNIDAD CIUDADANA', 'mesas_e','mesas_NO_e','proy_ventajaUC']]\n",
    "dg = dg.assign(Dif_favor_UC = dg['vot_UNIDAD CIUDADANA'] - dg['vot_CAMBIEMOS BUENOS AIRES'])\n",
    "dg.columns = [u'votos PRO', u'votos UC', u'escru', u'NO escru', u'Difer UC', 'Proy definitivo']\n",
    "x = dg.sort_values(by = 'NO escru', ascending=False).head(10)\n",
    "x\n",
    "# print x.to_latex()"
   ]
  },
  {
   "cell_type": "markdown",
   "metadata": {},
   "source": [
    "#### Example plot: PRO does better in smaller districts."
   ]
  },
  {
   "cell_type": "code",
   "execution_count": 61,
   "metadata": {
    "collapsed": false,
    "scrolled": true
   },
   "outputs": [
    {
     "data": {
      "image/png": "[encoded data removed]",
      "text/plain": [
       "<matplotlib.figure.Figure at 0x7f50841e4650>"
      ]
     },
     "metadata": {},
     "output_type": "display_data"
    }
   ],
   "source": [
    "x = np.log10(data.electores)\n",
    "y = data['pvot_CAMBIEMOS BUENOS AIRES'] - data['pvot_UNIDAD CIUDADANA']\n",
    "\n",
    "m,b = np.polyfit(x, y, 1)\n",
    "\n",
    "plt.scatter(x, y, edgecolors='none', c='b')\n",
    "t = np.arange(3, 7, 1)\n",
    "plt.plot(t, m * t + b)\n",
    "\n",
    "plt.xlabel('Total electores (log)')\n",
    "plt.ylabel('Ventaja PRO (%)')\n",
    "plt.show()"
   ]
  }
 ],
 "metadata": {
  "kernelspec": {
   "display_name": "Python 2",
   "language": "python",
   "name": "python2"
  },
  "language_info": {
   "codemirror_mode": {
    "name": "ipython",
    "version": 2
   },
   "file_extension": ".py",
   "mimetype": "text/x-python",
   "name": "python",
   "nbconvert_exporter": "python",
   "pygments_lexer": "ipython2",
   "version": "2.7.13"
  }
 },
 "nbformat": 4,
 "nbformat_minor": 0
}
